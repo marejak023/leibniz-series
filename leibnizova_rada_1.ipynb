{
 "cells": [
  {
   "cell_type": "markdown",
   "id": "upset-victorian",
   "metadata": {},
   "source": [
    "# Aproximace $\\pi$ pomocí Leibnizovi řady v Pythonu, díl 1"
   ]
  },
  {
   "cell_type": "markdown",
   "id": "noble-evans",
   "metadata": {},
   "source": [
    "## <ins> Úvod\n",
    "\n",
    "Leibnizovu řadu lze popsat následujícím způsobem:\n",
    "\n",
    "$$\\frac{\\pi}{4} = \\sum\\limits_{n=0}^\\infty\\frac{(-1)^n}{2n+1} = \\frac{1}{1}-\\frac{1}{3}+\\frac{1}{5}-\\frac{1}{7}+\\frac{1}{9}-\\dots$$\n",
    "\n",
    "Můžeme vidět, že ze zadání nám \\(\\pi\\) vyjde v podílu 4, to lze upravit dosazením 4 do čitatele místo 1, poté dostaneme:\n",
    "\n",
    "$$\\pi = \\frac{4}{1}-\\frac{4}{3}+\\frac{4}{5}-\\frac{4}{7}+\\frac{4}{9}-...$$\n",
    "\n",
    "Co z toho lze vyčíst, vidíme, že ve jmenovateli se nachází číslo, které se s každým následujícím členem řady zvýší o hodnotu 2. Dále můžeme vidět, že mezi každým členem se mění znaménko, začínaje +. Důležité je uvědomit si fakt, že čím více členů řady bude, tím naše aproxiamce bude přesnější a zde lze narazit na problém, protože v základním tvaru může více desetinných čísel zabrat mnoho času na spočítání. Výhodou na druhou stranu je to, že použitím této řady lze dosáhnout velké přesnosti.\n",
    "\n",
    "Zrychlení výpočtu lze dosáhnout například užitím některé transformace pro řady s měnícími se znaménky (alternující řady), například Eulerovi transformace nebo Van Wijngaardenovi transformace, díky čemuž dostaneme vzorec:\n",
    "\n",
    "$$\\frac{\\pi}{4} = \\sum\\limits_{n=0}^\\infty\\left(\\frac{1}{4n+1}-\\frac{1}{4n+3}\\right) = \\sum\\limits_{n=0}^\\infty\\frac{2}{(4n+1)(4n+3)}$$\n",
    "\n",
    "My ale zůstaneme u původního vzorce, protože ten je nejvíce požíván pro procvičování programování.</p>\n",
    "\n",
    "Zde můžete vidět obrázek porovnávající užití některých transformací Leibnizovi řady v závislosti na počtu členů a přesnosti:\n",
    "\n",
    "![Comparison of different transformations used for Leibniz series](img/Comparison_pi_infinite_series.png)"
   ]
  },
  {
   "cell_type": "markdown",
   "id": "hungry-joseph",
   "metadata": {},
   "source": [
    "## <ins> Zdrojový kód\n",
    "    \n",
    "Když za sebou máme teoretický úvod, tak můžeme začít programovat. Jako první si vytvoříme nový projekt <code>main.py</code>. Dále si importujeme knihovnu <code>math</code> (kvůli užití konstanty <code>math.pi()</code>) a inicializujeme proměnné <code>k</code> pro jmenovatel, <code>s</code> pro výsledek a vstup <code>sum_range</code> typu <code>int</code> pro počet členů:"
   ]
  },
  {
   "cell_type": "code",
   "execution_count": 1,
   "id": "higher-probe",
   "metadata": {},
   "outputs": [
    {
     "name": "stdout",
     "output_type": "stream",
     "text": [
      "\n",
      "Enter a range: 25\n"
     ]
    }
   ],
   "source": [
    "#Author: marejak023\n",
    "#Contact: marejak023@gmail.com, marejak023.wz.cz\n",
    "#Date: 17/01/2021\n",
    "\n",
    "import math\n",
    "\n",
    "# formula: s = 4 - 4/3 + 4/5 - 4/7 + ...\n",
    "\n",
    "k = 1 # denominator\n",
    "s = 0 # sum\n",
    "\n",
    "sum_range = int(input(\"\\nEnter a range: \")) # range for the series"
   ]
  },
  {
   "cell_type": "markdown",
   "id": "guided-symposium",
   "metadata": {},
   "source": [
    "Pokud vás zajíma, proč všechny zdrojové kódy píšu a komentuji v angličtině, tak se na to brzy chystám přidat příspěvek. Jako další si připravíme <code>for loop</code> s naším uvedeným rozsahem, která již bude provádět samotný výpočet:"
   ]
  },
  {
   "cell_type": "code",
   "execution_count": 2,
   "id": "raising-korea",
   "metadata": {},
   "outputs": [],
   "source": [
    "for i in range(sum_range):\n",
    "\n",
    "# even numbers have + sign\n",
    "    if i % 2 == 0:\n",
    "        s += 4/k\n",
    "    else:\n",
    "        s -= 4/k\n",
    "    k += 2"
   ]
  },
  {
   "cell_type": "markdown",
   "id": "placed-projection",
   "metadata": {},
   "source": [
    "Všiměte si, že změna znamének se provádí pomocí kontroly, zda je číslo sudé nebo liché (operace prováděna pomocí modulo operátoru <code>%</code>). Nyní máme výsledek uložený v proměnné <code>s</code> a jako další si budeme chtít spočítat procentuální chybu naší aproximace. Ta se spočítá podle vzorce:\n",
    "\n",
    "$$ERROR[\\%] = \\frac{|E-T|}{|T|}\\times100$$"
   ]
  },
  {
   "cell_type": "markdown",
   "id": "significant-compilation",
   "metadata": {},
   "source": [
    "Kde:\n",
    "\n",
    "    - E: naše aproximovaná hodnota (z angl. experimental value)\n",
    "    - T: správná hodnota pi (z angl. theoretical value)\n",
    "    \n",
    "Adaptace pomocí kódu je následující:"
   ]
  },
  {
   "cell_type": "code",
   "execution_count": 3,
   "id": "uniform-latvia",
   "metadata": {},
   "outputs": [],
   "source": [
    "error = ((s-math.pi)/math.pi)*100 # Percentage value of error"
   ]
  },
  {
   "cell_type": "markdown",
   "id": "governing-profile",
   "metadata": {},
   "source": [
    "<code>math.pi</code> je hodnota pi z knihovny <code>math</code>. Nyní máme již všechny tři potřebné hodnoty (<code>s</code>, <code>math.pi</code>, <code>error</code>) uložené v proměnných a můžeme si je zobrazit:"
   ]
  },
  {
   "cell_type": "code",
   "execution_count": 4,
   "id": "maritime-assets",
   "metadata": {},
   "outputs": [
    {
     "name": "stdout",
     "output_type": "stream",
     "text": [
      "\n",
      "Approximate value of pi using Liebniz series is:  3.181576685435032\n",
      "Real value using math python constant math.pi is:  3.141592653589793\n",
      "Value of error in % is:  1.27273126258272 %\n",
      "\n",
      "Approximate value is limited to 15 float digits, so it matches the internal float value of math.pi\n"
     ]
    }
   ],
   "source": [
    "print(\"\\nApproximate value of pi using Liebniz series is: \", \"{:.15f}\".format(s))\n",
    "print(\"Real value using math python constant math.pi is: \", math.pi)\n",
    "print(\"Value of error in % is: \", abs(error), \"%\")\n",
    "print(\"\\nApproximate value is limited to 15 float digits, so it matches the internal float value of math.pi\")"
   ]
  },
  {
   "cell_type": "markdown",
   "id": "according-blues",
   "metadata": {},
   "source": [
    "Z příkladu nahoře můžeme vidět, že při rozsahu 25 je odchylka okolo 1,27%. Všiměte si, že naše hodnota <code>s</code> je zaokrouhlena pomocí <code>\"{:.15f}\".format(s)</code> na 15 desetinných míst, to je kvůli tomu, že konstanta <code>math.pi</code> je interně také omezena na 15 desetinných míst, takže takto lze lépe spočítat hodnotu chyby."
   ]
  },
  {
   "cell_type": "markdown",
   "id": "center-singapore",
   "metadata": {},
   "source": [
    "A to je vše, dokázali jsme aplikovat Leibniezovu řadu v Pythonu. Příště se pokusíme tuto řadu vynést do grafu pomocí <code>matplotlib</code> Python knihovny a zjistit graficky, jaká je závislost mezi počtem členů řady a přesnosti."
   ]
  },
  {
   "cell_type": "markdown",
   "id": "physical-embassy",
   "metadata": {},
   "source": [
    "## <ins> Reference\n",
    "[1] CMGLEE. wikipedia.cz [online]. [cit. 17.1.2021]. Dostupný na WWW: <a href=\"https://commons.wikimedia.org/wiki/File:Comparison_pi_infinite_series.svg\" target=\"_blank\">https://commons.wikimedia.org/wiki/File:Comparison_pi_infinite_series.svg </a>\n",
    "\n",
    "[2] Leibniz formula for pi. In: Wikipedia: the free encyclopedia [online]. San Francisco (CA): Wikimedia Foundation, 2001- [cit. 2021-01-17]. Dostupné z: <a href=\"https://en.wikipedia.org/wiki/Leibniz_formula_for_%CF%80\" target=\"_blank\">https://en.wikipedia.org/wiki/Leibniz_formula_for_%CF%80</a>"
   ]
  }
 ],
 "metadata": {
  "kernelspec": {
   "display_name": "Python 3",
   "language": "python",
   "name": "python3"
  },
  "language_info": {
   "codemirror_mode": {
    "name": "ipython",
    "version": 3
   },
   "file_extension": ".py",
   "mimetype": "text/x-python",
   "name": "python",
   "nbconvert_exporter": "python",
   "pygments_lexer": "ipython3",
   "version": "3.9.1"
  }
 },
 "nbformat": 4,
 "nbformat_minor": 5
}
